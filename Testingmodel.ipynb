{
 "cells": [
  {
   "cell_type": "code",
   "execution_count": null,
   "id": "bf22ebdd",
   "metadata": {},
   "outputs": [],
   "source": [
    "from PIL import Image\n",
    "import numpy as np\n",
    "import os \n",
    "import pandas as pd\n",
    "import matplotlib.pyplot as plt\n",
    "import cv2\n",
    "import keras\n",
    "from tensorflow.keras.preprocessing.image import load_img\n",
    "from tensorflow.keras.preprocessing.image import img_to_array\n",
    "from tensorflow.keras.preprocessing.image import array_to_img\n",
    "from tensorflow.keras.preprocessing import image\n",
    "from os import path"
   ]
  },
  {
   "cell_type": "code",
   "execution_count": null,
   "id": "1b805fe5",
   "metadata": {},
   "outputs": [],
   "source": [
    "import tensorflow as tf\n",
    "new_model = tf.keras.models.load_model('predict.h5')\n",
    "new_model.summary()"
   ]
  },
  {
   "cell_type": "code",
   "execution_count": null,
   "id": "915acb64",
   "metadata": {},
   "outputs": [],
   "source": [
    "path=\"C:/Users/rithe/OneDrive/Desktop/Dataset1/Test\"\n",
    "for i in os.listdir(path):\n",
    "    print(i)\n",
    "    image1= cv2.imread(path+'/'+ i)\n",
    "    img= load_img(path+'/'+ i, target_size=(256,256))\n",
    "    img = img_to_array(img)\n",
    "    img = np.array([img])/255\n",
    "    image = cv2.cvtColor(np.float32(image1),cv2.COLOR_BGR2RGB)\n",
    "    image = cv2.cvtColor(image,cv2.COLOR_RGB2HSV)\n",
    "    lower = [np.mean(image[:,:,i] - np.std(image[:,:,i])/3 ) for i in range(3)]\n",
    "    upper = [250, 250, 250]\n",
    "    lower = np.array(lower, dtype=\"uint8\")\n",
    "    upper = np.array(upper, dtype=\"uint8\")\n",
    "    mask = cv2.inRange(image, lower, upper)\n",
    "    output = cv2.bitwise_and(image, image, mask=mask)\n",
    "    ret,thresh = cv2.threshold(mask, 40, 255, 0)\n",
    "    contours, hierarchy = cv2.findContours(thresh, cv2.RETR_EXTERNAL, cv2.CHAIN_APPROX_NONE)\n",
    "\n",
    "\n",
    "    c = max(contours, key = cv2.contourArea)\n",
    "    x,y,w,h = cv2.boundingRect(c)\n",
    "\n",
    "    \n",
    "\n",
    "    cv2.rectangle(output,(x,y),(x+w,y+h),(0,255,0),5)\n",
    "    Result=new_model.predict(img)\n",
    "    if Result <= 0.5: \n",
    "        print(\"Tobacco\")\n",
    "        cv2.putText(output, \"TOBACCO\", (x+20, y-20),cv2.FONT_HERSHEY_SIMPLEX,1, (0, 255, 0), 3) \n",
    "    else: \n",
    "        print(\"Weed\")\n",
    "        cv2.putText(output, \"weed\", (x+20, y-20),cv2.FONT_HERSHEY_SIMPLEX,1, (0, 255, 0), 3) \n",
    "\n",
    "    plt.figure(figsize=(20,4))\n",
    "    plt.subplot(1,3,1),plt.imshow(image1),plt.title(\"input\")\n",
    "    plt.subplot(1,3,2),plt.imshow(output),plt.title(\"Detection\")\n",
    "    plt.show()\n",
    "    "
   ]
  },
  {
   "cell_type": "code",
   "execution_count": null,
   "id": "38625993",
   "metadata": {},
   "outputs": [],
   "source": []
  },
  {
   "cell_type": "code",
   "execution_count": null,
   "id": "2cbe25ff",
   "metadata": {},
   "outputs": [],
   "source": []
  }
 ],
 "metadata": {
  "kernelspec": {
   "display_name": "Python 3 (ipykernel)",
   "language": "python",
   "name": "python3"
  },
  "language_info": {
   "codemirror_mode": {
    "name": "ipython",
    "version": 3
   },
   "file_extension": ".py",
   "mimetype": "text/x-python",
   "name": "python",
   "nbconvert_exporter": "python",
   "pygments_lexer": "ipython3",
   "version": "3.9.7"
  }
 },
 "nbformat": 4,
 "nbformat_minor": 5
}
