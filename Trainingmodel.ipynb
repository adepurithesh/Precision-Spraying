{
 "cells": [
  {
   "cell_type": "markdown",
   "metadata": {
    "id": "S6H-9BlM6YSk"
   },
   "source": [
    "# **TRAINING MODEL**"
   ]
  },
  {
   "cell_type": "code",
   "execution_count": 2,
   "metadata": {
    "id": "3fY2hAK3MKlt"
   },
   "outputs": [],
   "source": [
    "import numpy as np\n",
    "import matplotlib.pyplot as plt\n",
    "import keras\n",
    "from keras.layers import Dense, Conv2D, MaxPool2D, Dropout, Flatten\n",
    "from keras.models import Sequential\n",
    "from keras.preprocessing import image\n",
    "import cv2\n",
    "from PIL import Image"
   ]
  },
  {
   "cell_type": "code",
   "execution_count": 3,
   "metadata": {
    "colab": {
     "base_uri": "https://localhost:8080/"
    },
    "id": "0d0nHdQZMkLM",
    "outputId": "1e5eba29-eae0-4292-fe95-fa12077fac91"
   },
   "outputs": [
    {
     "name": "stdout",
     "output_type": "stream",
     "text": [
      "Found 6422 images belonging to 2 classes.\n"
     ]
    }
   ],
   "source": [
    "train_datagen= image.ImageDataGenerator(\n",
    "    rescale=1/255, horizontal_flip= True, zoom_range=0.2, shear_range=0.2\n",
    ")\n",
    "\n",
    "train_data=train_datagen.flow_from_directory(directory=\"C:/Users/rithe/OneDrive/Desktop/Dataset/Train_data\", target_size= (256,256), batch_size= 1,\n",
    "                                             class_mode = 'binary'\n",
    "                                             )"
   ]
  },
  {
   "cell_type": "code",
   "execution_count": 4,
   "metadata": {
    "colab": {
     "base_uri": "https://localhost:8080/"
    },
    "id": "oKBaICNhPFq3",
    "outputId": "90ae62c0-fe11-41de-e6e9-2990b5e02ae5"
   },
   "outputs": [
    {
     "data": {
      "text/plain": [
       "{'Tobacco': 0, 'Weed': 1}"
      ]
     },
     "execution_count": 4,
     "metadata": {},
     "output_type": "execute_result"
    }
   ],
   "source": [
    "train_data.class_indices"
   ]
  },
  {
   "cell_type": "code",
   "execution_count": 5,
   "metadata": {
    "colab": {
     "base_uri": "https://localhost:8080/"
    },
    "id": "eg_kUl9vPJM2",
    "outputId": "e1066604-b97e-4f84-b295-90788505d2a7"
   },
   "outputs": [
    {
     "name": "stdout",
     "output_type": "stream",
     "text": [
      "Found 138 images belonging to 2 classes.\n"
     ]
    }
   ],
   "source": [
    "test_datagen= image.ImageDataGenerator(\n",
    "    rescale=1/255\n",
    ")\n",
    "\n",
    "test_data=test_datagen.flow_from_directory(directory=\"C:/Users/rithe/OneDrive/Desktop/Dataset/Evaluate_data\", target_size= (256,256), batch_size= 16,\n",
    "                                             class_mode = 'binary'\n",
    "                                             )"
   ]
  },
  {
   "cell_type": "code",
   "execution_count": 6,
   "metadata": {
    "colab": {
     "base_uri": "https://localhost:8080/"
    },
    "id": "k7EbSvZ8PMa5",
    "outputId": "f3932da0-8148-4d12-d26e-d344bd37ecb3"
   },
   "outputs": [
    {
     "data": {
      "text/plain": [
       "{'Tobacco': 0, 'weed': 1}"
      ]
     },
     "execution_count": 6,
     "metadata": {},
     "output_type": "execute_result"
    }
   ],
   "source": [
    "test_data.class_indices"
   ]
  },
  {
   "cell_type": "code",
   "execution_count": 7,
   "metadata": {
    "colab": {
     "base_uri": "https://localhost:8080/"
    },
    "id": "B-tJyoYuPPAC",
    "outputId": "b6d42d53-4531-47aa-abfa-4133769896af"
   },
   "outputs": [
    {
     "name": "stderr",
     "output_type": "stream",
     "text": [
      "WARNING:absl:`lr` is deprecated, please use `learning_rate` instead, or use the legacy optimizer, e.g.,tf.keras.optimizers.legacy.RMSprop.\n"
     ]
    }
   ],
   "source": [
    "from keras.engine.sequential import Sequential\n",
    "\n",
    "from tensorflow.keras.optimizers import RMSprop\n",
    "\n",
    "model = Sequential()\n",
    "model.add(Conv2D(filters=32, kernel_size=(3,3), activation='relu', input_shape= (256,256,3)))\n",
    "model.add(Conv2D(filters=64, kernel_size=(3,3), activation='relu'))\n",
    "model.add(MaxPool2D())\n",
    "#model.add(Dropout(rate=0.25)) \n",
    "\n",
    "model.add(Conv2D(filters=64, kernel_size=(3,3), activation='relu'))\n",
    "model.add(MaxPool2D())\n",
    "#model.add(Dropout(rate=0.25)) \n",
    "\n",
    "model.add(Conv2D(filters=128, kernel_size=(3,3), activation='relu'))\n",
    "model.add(MaxPool2D())\n",
    "#model.add(Dropout(rate=0.25))\n",
    "\n",
    "model.add(Flatten())\n",
    "model.add(Dense(units=64, activation='relu'))\n",
    "#model.add(Dropout(rate=0.50))\n",
    "model.add(Dense(units=1, activation='sigmoid'))\n",
    "\n",
    "model.compile(loss='binary_crossentropy',\n",
    "             optimizer=RMSprop(lr=0.001),\n",
    "             metrics=['accuracy'])"
   ]
  },
  {
   "cell_type": "code",
   "execution_count": 8,
   "metadata": {
    "colab": {
     "base_uri": "https://localhost:8080/"
    },
    "id": "xSLV-F-pPXap",
    "outputId": "73cfd8d1-308f-4f53-eb37-d7736c723636"
   },
   "outputs": [
    {
     "name": "stdout",
     "output_type": "stream",
     "text": [
      "Model: \"sequential\"\n",
      "_________________________________________________________________\n",
      " Layer (type)                Output Shape              Param #   \n",
      "=================================================================\n",
      " conv2d (Conv2D)             (None, 254, 254, 32)      896       \n",
      "                                                                 \n",
      " conv2d_1 (Conv2D)           (None, 252, 252, 64)      18496     \n",
      "                                                                 \n",
      " max_pooling2d (MaxPooling2D  (None, 126, 126, 64)     0         \n",
      " )                                                               \n",
      "                                                                 \n",
      " conv2d_2 (Conv2D)           (None, 124, 124, 64)      36928     \n",
      "                                                                 \n",
      " max_pooling2d_1 (MaxPooling  (None, 62, 62, 64)       0         \n",
      " 2D)                                                             \n",
      "                                                                 \n",
      " conv2d_3 (Conv2D)           (None, 60, 60, 128)       73856     \n",
      "                                                                 \n",
      " max_pooling2d_2 (MaxPooling  (None, 30, 30, 128)      0         \n",
      " 2D)                                                             \n",
      "                                                                 \n",
      " flatten (Flatten)           (None, 115200)            0         \n",
      "                                                                 \n",
      " dense (Dense)               (None, 64)                7372864   \n",
      "                                                                 \n",
      " dense_1 (Dense)             (None, 1)                 65        \n",
      "                                                                 \n",
      "=================================================================\n",
      "Total params: 7,503,105\n",
      "Trainable params: 7,503,105\n",
      "Non-trainable params: 0\n",
      "_________________________________________________________________\n"
     ]
    }
   ],
   "source": [
    "model.summary()"
   ]
  },
  {
   "cell_type": "code",
   "execution_count": 9,
   "metadata": {
    "colab": {
     "base_uri": "https://localhost:8080/"
    },
    "id": "VaiUdEvqPagl",
    "outputId": "8ac302d0-5591-4f05-aaca-c57d229ea81d"
   },
   "outputs": [
    {
     "name": "stdout",
     "output_type": "stream",
     "text": [
      "Epoch 1/50\n"
     ]
    },
    {
     "name": "stderr",
     "output_type": "stream",
     "text": [
      "C:\\Users\\rithe\\AppData\\Local\\Temp/ipykernel_38776/2691530979.py:1: UserWarning: `Model.fit_generator` is deprecated and will be removed in a future version. Please use `Model.fit`, which supports generators.\n",
      "  model.fit_generator(train_data, steps_per_epoch=10, epochs=50, validation_steps=2,\n"
     ]
    },
    {
     "name": "stdout",
     "output_type": "stream",
     "text": [
      "10/10 [==============================] - 4s 314ms/step - loss: 0.0652 - accuracy: 1.0000 - val_loss: 12.4455 - val_accuracy: 0.8125\n",
      "Epoch 2/50\n",
      "10/10 [==============================] - 3s 296ms/step - loss: 8.9913 - accuracy: 0.6000 - val_loss: 1.2203 - val_accuracy: 0.7500\n",
      "Epoch 3/50\n",
      "10/10 [==============================] - 3s 281ms/step - loss: 1.1540 - accuracy: 0.8000 - val_loss: 0.7211 - val_accuracy: 0.8125\n",
      "Epoch 4/50\n",
      "10/10 [==============================] - 3s 281ms/step - loss: 0.6931 - accuracy: 0.9000 - val_loss: 1.0557 - val_accuracy: 0.8125\n",
      "Epoch 5/50\n",
      "10/10 [==============================] - 3s 323ms/step - loss: 0.7230 - accuracy: 0.9000 - val_loss: 1.3720 - val_accuracy: 0.8125\n",
      "Epoch 6/50\n",
      "10/10 [==============================] - 3s 316ms/step - loss: 1.4488 - accuracy: 0.7000 - val_loss: 0.9946 - val_accuracy: 0.8125\n",
      "Epoch 7/50\n",
      "10/10 [==============================] - 3s 288ms/step - loss: 1.0194 - accuracy: 0.8000 - val_loss: 0.4114 - val_accuracy: 0.8750\n",
      "Epoch 8/50\n",
      "10/10 [==============================] - 3s 292ms/step - loss: 0.3996 - accuracy: 0.9000 - val_loss: 1.7446 - val_accuracy: 0.6250\n",
      "Epoch 9/50\n",
      "10/10 [==============================] - 3s 321ms/step - loss: 0.0022 - accuracy: 1.0000 - val_loss: 1.3544 - val_accuracy: 0.8438\n",
      "Epoch 10/50\n",
      "10/10 [==============================] - 3s 311ms/step - loss: 1.0477 - accuracy: 0.9000 - val_loss: 0.7052 - val_accuracy: 0.8438\n",
      "Epoch 11/50\n",
      "10/10 [==============================] - 3s 301ms/step - loss: 0.9165 - accuracy: 0.8000 - val_loss: 0.7764 - val_accuracy: 0.6875\n",
      "Epoch 12/50\n",
      "10/10 [==============================] - 3s 297ms/step - loss: 1.0393 - accuracy: 0.7000 - val_loss: 0.5952 - val_accuracy: 0.7500\n",
      "Epoch 13/50\n",
      "10/10 [==============================] - 3s 342ms/step - loss: 0.5726 - accuracy: 0.9000 - val_loss: 0.4910 - val_accuracy: 0.8125\n",
      "Epoch 14/50\n",
      "10/10 [==============================] - 3s 334ms/step - loss: 0.4459 - accuracy: 0.9000 - val_loss: 1.2931 - val_accuracy: 0.7188\n",
      "Epoch 15/50\n",
      "10/10 [==============================] - 3s 346ms/step - loss: 1.0258 - accuracy: 0.7000 - val_loss: 0.5845 - val_accuracy: 0.7500\n",
      "Epoch 16/50\n",
      "10/10 [==============================] - 5s 497ms/step - loss: 0.1559 - accuracy: 1.0000 - val_loss: 1.3767 - val_accuracy: 0.7812\n",
      "Epoch 17/50\n",
      "10/10 [==============================] - 4s 420ms/step - loss: 0.8317 - accuracy: 0.9000 - val_loss: 0.5138 - val_accuracy: 0.8125\n",
      "Epoch 18/50\n",
      "10/10 [==============================] - 4s 423ms/step - loss: 0.6672 - accuracy: 0.8000 - val_loss: 0.5575 - val_accuracy: 0.7500\n",
      "Epoch 19/50\n",
      "10/10 [==============================] - 4s 373ms/step - loss: 0.0611 - accuracy: 1.0000 - val_loss: 1.0153 - val_accuracy: 0.8750\n",
      "Epoch 20/50\n",
      "10/10 [==============================] - 3s 347ms/step - loss: 3.3281e-04 - accuracy: 1.0000 - val_loss: 2.4580 - val_accuracy: 0.7500\n",
      "Epoch 21/50\n",
      "10/10 [==============================] - 4s 406ms/step - loss: 3.3281e-04 - accuracy: 1.0000 - val_loss: 3.2444 - val_accuracy: 0.7500\n",
      "Epoch 22/50\n",
      "10/10 [==============================] - 4s 406ms/step - loss: 4.2105e-06 - accuracy: 1.0000 - val_loss: 2.8809 - val_accuracy: 0.7812\n",
      "Epoch 23/50\n",
      "10/10 [==============================] - 3s 344ms/step - loss: 1.5490 - accuracy: 0.8000 - val_loss: 0.6127 - val_accuracy: 0.7188\n",
      "Epoch 24/50\n",
      "10/10 [==============================] - 4s 367ms/step - loss: 0.6435 - accuracy: 0.9000 - val_loss: 0.9108 - val_accuracy: 0.7812\n",
      "Epoch 25/50\n",
      "10/10 [==============================] - 3s 350ms/step - loss: 0.7980 - accuracy: 0.9000 - val_loss: 0.5094 - val_accuracy: 0.8750\n",
      "Epoch 26/50\n",
      "10/10 [==============================] - 3s 333ms/step - loss: 0.5217 - accuracy: 0.9000 - val_loss: 0.7652 - val_accuracy: 0.7500\n",
      "Epoch 27/50\n",
      "10/10 [==============================] - 4s 374ms/step - loss: 0.0091 - accuracy: 1.0000 - val_loss: 3.2519 - val_accuracy: 0.6250\n",
      "Epoch 28/50\n",
      "10/10 [==============================] - 4s 383ms/step - loss: 0.9440 - accuracy: 0.9000 - val_loss: 0.5670 - val_accuracy: 0.7500\n",
      "Epoch 29/50\n",
      "10/10 [==============================] - 3s 347ms/step - loss: 0.9874 - accuracy: 0.8000 - val_loss: 0.6321 - val_accuracy: 0.6875\n",
      "Epoch 30/50\n",
      "10/10 [==============================] - 3s 338ms/step - loss: 0.3530 - accuracy: 0.9000 - val_loss: 1.1022 - val_accuracy: 0.8438\n",
      "Epoch 31/50\n",
      "10/10 [==============================] - 3s 333ms/step - loss: 0.9021 - accuracy: 0.9000 - val_loss: 0.6203 - val_accuracy: 0.8125\n",
      "Epoch 32/50\n",
      "10/10 [==============================] - 3s 325ms/step - loss: 0.4832 - accuracy: 0.9000 - val_loss: 0.6805 - val_accuracy: 0.8125\n",
      "Epoch 33/50\n",
      "10/10 [==============================] - 3s 339ms/step - loss: 0.0133 - accuracy: 1.0000 - val_loss: 2.1422 - val_accuracy: 0.6875\n",
      "Epoch 34/50\n",
      "10/10 [==============================] - 3s 338ms/step - loss: 0.9282 - accuracy: 0.9000 - val_loss: 0.6036 - val_accuracy: 0.7500\n",
      "Epoch 35/50\n",
      "10/10 [==============================] - 3s 296ms/step - loss: 0.7357 - accuracy: 0.7000 - val_loss: 0.5783 - val_accuracy: 0.7500\n",
      "Epoch 36/50\n",
      "10/10 [==============================] - 3s 320ms/step - loss: 0.6700 - accuracy: 0.7000 - val_loss: 0.6375 - val_accuracy: 0.7188\n",
      "Epoch 37/50\n",
      "10/10 [==============================] - 3s 304ms/step - loss: 0.5835 - accuracy: 0.8000 - val_loss: 0.3899 - val_accuracy: 0.8750\n",
      "Epoch 38/50\n",
      "10/10 [==============================] - 3s 309ms/step - loss: 0.8431 - accuracy: 0.7000 - val_loss: 0.5685 - val_accuracy: 0.8125\n",
      "Epoch 39/50\n",
      "10/10 [==============================] - 3s 317ms/step - loss: 0.4260 - accuracy: 0.9000 - val_loss: 0.9597 - val_accuracy: 0.6875\n",
      "Epoch 40/50\n",
      "10/10 [==============================] - 3s 327ms/step - loss: 0.6901 - accuracy: 0.8000 - val_loss: 0.6159 - val_accuracy: 0.7188\n",
      "Epoch 41/50\n",
      "10/10 [==============================] - 5s 472ms/step - loss: 0.4906 - accuracy: 0.9000 - val_loss: 0.5387 - val_accuracy: 0.7812\n",
      "Epoch 42/50\n",
      "10/10 [==============================] - 4s 380ms/step - loss: 0.1398 - accuracy: 1.0000 - val_loss: 0.9982 - val_accuracy: 0.7500\n",
      "Epoch 43/50\n",
      "10/10 [==============================] - 5s 476ms/step - loss: 0.0173 - accuracy: 1.0000 - val_loss: 1.3144 - val_accuracy: 0.7812\n",
      "Epoch 44/50\n",
      "10/10 [==============================] - 4s 434ms/step - loss: 1.0176 - accuracy: 0.8000 - val_loss: 0.4950 - val_accuracy: 0.8125\n",
      "Epoch 45/50\n",
      "10/10 [==============================] - 4s 399ms/step - loss: 0.0800 - accuracy: 1.0000 - val_loss: 2.3249 - val_accuracy: 0.7188\n",
      "Epoch 46/50\n",
      "10/10 [==============================] - 4s 376ms/step - loss: 4.3778e-04 - accuracy: 1.0000 - val_loss: 2.3589 - val_accuracy: 0.7812\n",
      "Epoch 47/50\n",
      "10/10 [==============================] - 3s 345ms/step - loss: 4.2960e-05 - accuracy: 1.0000 - val_loss: 1.8170 - val_accuracy: 0.8438\n",
      "Epoch 48/50\n",
      "10/10 [==============================] - 3s 319ms/step - loss: 1.7062 - accuracy: 0.6000 - val_loss: 0.6398 - val_accuracy: 0.8438\n",
      "Epoch 49/50\n",
      "10/10 [==============================] - 3s 337ms/step - loss: 0.1348 - accuracy: 1.0000 - val_loss: 1.4828 - val_accuracy: 0.8125\n",
      "Epoch 50/50\n",
      "10/10 [==============================] - 3s 333ms/step - loss: 1.1559 - accuracy: 0.8000 - val_loss: 0.4902 - val_accuracy: 0.8125\n"
     ]
    },
    {
     "data": {
      "text/plain": [
       "<keras.callbacks.History at 0x298a8d1f8b0>"
      ]
     },
     "execution_count": 9,
     "metadata": {},
     "output_type": "execute_result"
    }
   ],
   "source": [
    "model.fit_generator(train_data, steps_per_epoch=10, epochs=50, validation_steps=2,\n",
    "                    validation_data=test_data)"
   ]
  },
  {
   "cell_type": "code",
   "execution_count": 10,
   "metadata": {
    "id": "209cni7b3Nqt"
   },
   "outputs": [],
   "source": [
    "model.save('my_model.h5')"
   ]
  },
  {
   "cell_type": "code",
   "execution_count": 1,
   "metadata": {
    "colab": {
     "base_uri": "https://localhost:8080/"
    },
    "id": "zyItOiDs5mxv",
    "outputId": "de71434d-515f-4434-b73d-d42bd3d3fcb3"
   },
   "outputs": [
    {
     "name": "stdout",
     "output_type": "stream",
     "text": [
      "Model: \"sequential\"\n",
      "_________________________________________________________________\n",
      " Layer (type)                Output Shape              Param #   \n",
      "=================================================================\n",
      " conv2d (Conv2D)             (None, 254, 254, 32)      896       \n",
      "                                                                 \n",
      " conv2d_1 (Conv2D)           (None, 252, 252, 64)      18496     \n",
      "                                                                 \n",
      " max_pooling2d (MaxPooling2D  (None, 126, 126, 64)     0         \n",
      " )                                                               \n",
      "                                                                 \n",
      " conv2d_2 (Conv2D)           (None, 124, 124, 64)      36928     \n",
      "                                                                 \n",
      " max_pooling2d_1 (MaxPooling  (None, 62, 62, 64)       0         \n",
      " 2D)                                                             \n",
      "                                                                 \n",
      " conv2d_3 (Conv2D)           (None, 60, 60, 128)       73856     \n",
      "                                                                 \n",
      " max_pooling2d_2 (MaxPooling  (None, 30, 30, 128)      0         \n",
      " 2D)                                                             \n",
      "                                                                 \n",
      " flatten (Flatten)           (None, 115200)            0         \n",
      "                                                                 \n",
      " dense (Dense)               (None, 64)                7372864   \n",
      "                                                                 \n",
      " dense_1 (Dense)             (None, 1)                 65        \n",
      "                                                                 \n",
      "=================================================================\n",
      "Total params: 7,503,105\n",
      "Trainable params: 7,503,105\n",
      "Non-trainable params: 0\n",
      "_________________________________________________________________\n"
     ]
    }
   ],
   "source": []
  }
 ],
 "metadata": {
  "colab": {
   "collapsed_sections": [],
   "name": "Precision Spraying_training CNN.ipynb",
   "provenance": []
  },
  "kernelspec": {
   "display_name": "Python 3 (ipykernel)",
   "language": "python",
   "name": "python3"
  },
  "language_info": {
   "codemirror_mode": {
    "name": "ipython",
    "version": 3
   },
   "file_extension": ".py",
   "mimetype": "text/x-python",
   "name": "python",
   "nbconvert_exporter": "python",
   "pygments_lexer": "ipython3",
   "version": "3.9.7"
  }
 },
 "nbformat": 4,
 "nbformat_minor": 1
}
